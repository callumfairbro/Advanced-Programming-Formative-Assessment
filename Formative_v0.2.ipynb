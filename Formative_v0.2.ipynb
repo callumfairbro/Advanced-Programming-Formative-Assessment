{
 "cells": [
  {
   "cell_type": "markdown",
   "id": "1dcb34ad",
   "metadata": {},
   "source": [
    "Production 2 "
   ]
  },
  {
   "cell_type": "code",
   "execution_count": 1,
   "id": "28437cb1",
   "metadata": {},
   "outputs": [],
   "source": [
    "import csv\n",
    "import json\n",
    "import pymongo\n",
    "import re"
   ]
  },
  {
   "cell_type": "code",
   "execution_count": 2,
   "id": "9c680370",
   "metadata": {
    "scrolled": false
   },
   "outputs": [],
   "source": [
    "# Starting database server\n",
    "client = pymongo.MongoClient('mongodb://localhost:27017/')"
   ]
  },
  {
   "cell_type": "code",
   "execution_count": 3,
   "id": "2442cd21",
   "metadata": {},
   "outputs": [],
   "source": [
    "# Array for storing names of loaded files\n",
    "loaded_files = []"
   ]
  },
  {
   "cell_type": "code",
   "execution_count": 4,
   "id": "4ded28dc",
   "metadata": {},
   "outputs": [],
   "source": [
    "# Method converting CSV file to JSON\n",
    "def csv_to_json(csv_file):\n",
    "    \n",
    "    # Extracting file name excluding extension\n",
    "    file_name = re.split(\".csv\",csv_file)\n",
    "    file_name = file_name[0]\n",
    "    \n",
    "    # Creating the name for the new JSON file\n",
    "    json_file = f\"{file_name}.json\"\n",
    "    \n",
    "    # Array to store data from CSV file\n",
    "    data_array = []\n",
    "    \n",
    "    # Extracting data from CSV file\n",
    "    with open(csv_file, encoding='utf-8') as in_file:\n",
    "        # Adding data to the array as dictionary objects\n",
    "        data_reader = csv.DictReader(in_file)\n",
    "        for row in data_reader:\n",
    "            data_array.append({file_name:row})\n",
    "    \n",
    "    # Writing data to JSON file\n",
    "    with open(json_file, 'w', encoding='utf-8') as out_file:\n",
    "        out_file.write(json.dumps(data_array, indent=2))\n",
    "        # Adding file name to array\n",
    "        loaded_files.append(json_file)\n",
    "    "
   ]
  },
  {
   "cell_type": "code",
   "execution_count": 5,
   "id": "d00ce53a",
   "metadata": {},
   "outputs": [],
   "source": [
    "# Method for adding loaded file to Database\n",
    "def json_to_mongo(json_file):\n",
    "    \n",
    "    # Extracting file name excluding extension\n",
    "    file_name = re.split(\".json\",json_file)\n",
    "    file_name = file_name[0]\n",
    "    \n",
    "    # Creating a collection with the file name\n",
    "    collection = db[file_name]\n",
    "    \n",
    "    # Adding data from JSON file to collection\n",
    "    with open(json_file) as db_file:\n",
    "        data = json.load(db_file)\n",
    "        for item in data[file_name]:\n",
    "            ins = collection.insert_one(item)"
   ]
  },
  {
   "cell_type": "code",
   "execution_count": null,
   "id": "0c9ae785",
   "metadata": {},
   "outputs": [],
   "source": [
    "while(True):\n",
    "    \n",
    "    # Accepting user input\n",
    "    user_choice = input(\n",
    "        \"\"\"Select an option:\n",
    "        1 - Load a CSV file\n",
    "        2 - Create a new database\n",
    "        3 - Add loaded files to database\n",
    "        4 - Exit\\n\"\"\")\n",
    "    \n",
    "    \n",
    "    if(user_choice == '1'):\n",
    "        # Accepting user input and calling method for converting to JSON\n",
    "        try:\n",
    "            csv_file = input(\"Enter the name of your CSV file:\")\n",
    "            csv_to_json(csv_file)\n",
    "            print(f\"{csv} successfully added.\")\n",
    "        # Catching error if file cannot be found\n",
    "        except FileNotFoundError:\n",
    "            print(\"Please enter a valid file name.\")\n",
    "        continue\n",
    "    \n",
    "    elif(user_choice == '2'):\n",
    "        # Accepting user input for database name\n",
    "        db_name = input(\"Please enter a name for your database:\")\n",
    "        # Creating database\n",
    "        db = client[db_name]\n",
    "        print(f\"{db_name} database created.\")\n",
    "        continue\n",
    "    \n",
    "    elif(user_choice == '3'):\n",
    "        try:\n",
    "            if db_name:\n",
    "                # Converting all CSV files listed in loaded_file array to JSON\n",
    "                for file in loaded_files:\n",
    "                    json_to_mongo(file)\n",
    "                    print(f\"{file} added to {db_name} database.\")\n",
    "        # Catching error if database has not been created\n",
    "        except NameError:\n",
    "            print(\"Please create a database first.\")  \n",
    "        continue\n",
    "    \n",
    "    elif(user_choice == '4'):\n",
    "        print(\"Exiting program...\")\n",
    "        break\n",
    "    \n",
    "    else:\n",
    "        # Providing advice to the user when an invalid option is entered\n",
    "        print(\"Error: Please enter a valid option.\")\n",
    "        continue\n",
    "    \n",
    "    # Breaking the While loop (only reached from option 4)\n",
    "    break"
   ]
  },
  {
   "cell_type": "code",
   "execution_count": null,
   "id": "3e95aaaa",
   "metadata": {},
   "outputs": [],
   "source": []
  }
 ],
 "metadata": {
  "kernelspec": {
   "display_name": "Python 3",
   "language": "python",
   "name": "python3"
  },
  "language_info": {
   "codemirror_mode": {
    "name": "ipython",
    "version": 3
   },
   "file_extension": ".py",
   "mimetype": "text/x-python",
   "name": "python",
   "nbconvert_exporter": "python",
   "pygments_lexer": "ipython3",
   "version": "3.8.8"
  }
 },
 "nbformat": 4,
 "nbformat_minor": 5
}
